{
 "cells": [
  {
   "cell_type": "markdown",
   "id": "8085e763",
   "metadata": {},
   "source": [
    "# Tools for making wonders"
   ]
  },
  {
   "cell_type": "code",
   "execution_count": 9,
   "id": "a5e765ea",
   "metadata": {},
   "outputs": [],
   "source": [
    "from functions import *"
   ]
  },
  {
   "cell_type": "code",
   "execution_count": 11,
   "id": "3f723259",
   "metadata": {
    "scrolled": true
   },
   "outputs": [
    {
     "name": "stdout",
     "output_type": "stream",
     "text": [
      "    tier_1 = {\n",
      "        upgrade_time = {\n",
      "            months = 120\n",
      "        }\n",
      "        province_modifiers = {\n",
      "\n",
      "        }\n",
      "        area_modifier = {\n",
      "            local_unrest = -1\n",
      "        }\n",
      "        country_modifiers = {\n",
      "            administrative_efficiency = 0.05\n",
      "            global_manpower_modifier = 0.25\n",
      "        }\n",
      "        on_upgraded = {\n",
      "\n",
      "        }\n",
      "    }\n"
     ]
    }
   ],
   "source": [
    "tr1 = tier(1, 120, 1000, [], ['local_unrest = -1'], ['administrative_efficiency = 0.05', 'global_manpower_modifier = 0.25'], [])\n",
    "print(tier_to_txt(tr1))"
   ]
  },
  {
   "cell_type": "code",
   "execution_count": 12,
   "id": "8e056a03",
   "metadata": {},
   "outputs": [],
   "source": [
    "tr2 = tier(2, 120, 1000, [], [], ['administrative_efficiency = 0.05', 'global_manpower_modifier = 0.25'], [])\n",
    "tr3 = tier(3, 120, 1000, [], [], ['administrative_efficiency = 0.05'], [])"
   ]
  },
  {
   "cell_type": "code",
   "execution_count": 13,
   "id": "2ddea8c5",
   "metadata": {
    "scrolled": true
   },
   "outputs": [
    {
     "data": {
      "text/plain": [
       "{'name': 'a',\n",
       " 'province': 1,\n",
       " 'start_tier': 1,\n",
       " 'tier1': {'tier': 'tier_1',\n",
       "  'upgrade_time': 120,\n",
       "  'upgrade_cost': 1000,\n",
       "  'province_mods': [],\n",
       "  'area_mods': ['local_unrest = -1'],\n",
       "  'country_mods': ['administrative_efficiency = 0.05',\n",
       "   'global_manpower_modifier = 0.25'],\n",
       "  'on_upgraded': []},\n",
       " 'tier2': {'tier': 'tier_2',\n",
       "  'upgrade_time': 120,\n",
       "  'upgrade_cost': 1000,\n",
       "  'province_mods': [],\n",
       "  'area_mods': [],\n",
       "  'country_mods': ['administrative_efficiency = 0.05',\n",
       "   'global_manpower_modifier = 0.25'],\n",
       "  'on_upgraded': []},\n",
       " 'tier3': {'tier': 'tier_3',\n",
       "  'upgrade_time': 120,\n",
       "  'upgrade_cost': 1000,\n",
       "  'province_mods': [],\n",
       "  'area_mods': [],\n",
       "  'country_mods': ['administrative_efficiency = 0.05'],\n",
       "  'on_upgraded': []}}"
      ]
     },
     "execution_count": 13,
     "metadata": {},
     "output_type": "execute_result"
    }
   ],
   "source": [
    "a = monument('a', 1, 1, tr1, tr2, tr3)\n",
    "a"
   ]
  },
  {
   "cell_type": "code",
   "execution_count": 14,
   "id": "a98218d2",
   "metadata": {
    "scrolled": true
   },
   "outputs": [
    {
     "name": "stdout",
     "output_type": "stream",
     "text": [
      "a = {\n",
      "    start = 1\n",
      "    date = 1444.01.01\n",
      "    build_cost = 0\n",
      "    can_be_moved = no\n",
      "    move_days_per_unit_distance = 1\n",
      "    starting_tier = 1\n",
      "    type = monument\n",
      "    time = {\n",
      "        months = 0\n",
      "    }\n",
      "    build_trigger = {\n",
      "    }\n",
      "    can_use_modifiers_trigger = {\n",
      "    }\n",
      "    can_upgrade_trigger = {\n",
      "    }\n",
      "    keep_trigger = {\n",
      "    }\n",
      "    tier_0 = {\n",
      "        upgrade_time = {\n",
      "            months = 0\n",
      "        }\n",
      "        cost_to_upgrade = {\n",
      "            factor = %(cost)d\n",
      "        }\n",
      "        province_modifiers = {\n",
      "        }\n",
      "        area_modifier = {\n",
      "        }\n",
      "        country_modifiers = {\n",
      "        }\n",
      "        on_upgraded = {\n",
      "        }\n",
      "    }\n",
      "    tier_1 = {\n",
      "        upgrade_time = {\n",
      "            months = 120\n",
      "        }\n",
      "        province_modifiers = {\n",
      "\n",
      "        }\n",
      "        area_modifier = {\n",
      "            local_unrest = -1\n",
      "        }\n",
      "        country_modifiers = {\n",
      "            administrative_efficiency = 0.05\n",
      "            global_manpower_modifier = 0.25\n",
      "        }\n",
      "        on_upgraded = {\n",
      "\n",
      "        }\n",
      "    }\n",
      "    tier_2 = {\n",
      "        upgrade_time = {\n",
      "            months = 120\n",
      "        }\n",
      "        province_modifiers = {\n",
      "\n",
      "        }\n",
      "        area_modifier = {\n",
      "\n",
      "        }\n",
      "        country_modifiers = {\n",
      "            administrative_efficiency = 0.05\n",
      "            global_manpower_modifier = 0.25\n",
      "        }\n",
      "        on_upgraded = {\n",
      "\n",
      "        }\n",
      "    }\n",
      "    tier_3 = {\n",
      "        upgrade_time = {\n",
      "            months = 120\n",
      "        }\n",
      "        province_modifiers = {\n",
      "\n",
      "        }\n",
      "        area_modifier = {\n",
      "\n",
      "        }\n",
      "        country_modifiers = {\n",
      "            administrative_efficiency = 0.05\n",
      "        }\n",
      "        on_upgraded = {\n",
      "\n",
      "        }\n",
      "    }\n",
      "}\n",
      "\n"
     ]
    }
   ],
   "source": [
    "print(to_txt(a))"
   ]
  },
  {
   "cell_type": "code",
   "execution_count": 15,
   "id": "bba0e611",
   "metadata": {
    "scrolled": true
   },
   "outputs": [
    {
     "name": "stdout",
     "output_type": "stream",
     "text": [
      "a = {\n",
      "    start = 1\n",
      "    date = 1444.01.01\n",
      "    build_cost = 0\n",
      "    can_be_moved = no\n",
      "    move_days_per_unit_distance = 1\n",
      "    starting_tier = 1\n",
      "    type = monument\n",
      "    time = {\n",
      "        months = 0\n",
      "    }\n",
      "    build_trigger = {\n",
      "    }\n",
      "    can_use_modifiers_trigger = {\n",
      "    }\n",
      "    can_upgrade_trigger = {\n",
      "    }\n",
      "    keep_trigger = {\n",
      "    }\n",
      "    tier_0 = {\n",
      "        upgrade_time = {\n",
      "            months = 0\n",
      "        }\n",
      "        cost_to_upgrade = {\n",
      "            factor = %(cost)d\n",
      "        }\n",
      "        province_modifiers = {\n",
      "        }\n",
      "        area_modifier = {\n",
      "        }\n",
      "        country_modifiers = {\n",
      "        }\n",
      "        on_upgraded = {\n",
      "        }\n",
      "    }\n",
      "    tier_1 = {\n",
      "        upgrade_time = {\n",
      "            months = 120\n",
      "        }\n",
      "        province_modifiers = {\n",
      "\n",
      "        }\n",
      "        area_modifier = {\n",
      "            local_unrest = -1\n",
      "        }\n",
      "        country_modifiers = {\n",
      "            administrative_efficiency = 0.05\n",
      "            global_manpower_modifier = 0.25\n",
      "        }\n",
      "        on_upgraded = {\n",
      "\n",
      "        }\n",
      "    }\n",
      "    tier_2 = {\n",
      "        upgrade_time = {\n",
      "            months = 120\n",
      "        }\n",
      "        province_modifiers = {\n",
      "\n",
      "        }\n",
      "        area_modifier = {\n",
      "\n",
      "        }\n",
      "        country_modifiers = {\n",
      "            administrative_efficiency = 0.05\n",
      "            global_manpower_modifier = 0.25\n",
      "        }\n",
      "        on_upgraded = {\n",
      "\n",
      "        }\n",
      "    }\n",
      "    tier_3 = {\n",
      "        upgrade_time = {\n",
      "            months = 120\n",
      "        }\n",
      "        province_modifiers = {\n",
      "\n",
      "        }\n",
      "        area_modifier = {\n",
      "\n",
      "        }\n",
      "        country_modifiers = {\n",
      "            administrative_efficiency = 0.05\n",
      "        }\n",
      "        on_upgraded = {\n",
      "\n",
      "        }\n",
      "    }\n",
      "}\n",
      "\n"
     ]
    }
   ],
   "source": [
    "print(to_txt(a))"
   ]
  },
  {
   "cell_type": "code",
   "execution_count": null,
   "id": "00735905",
   "metadata": {},
   "outputs": [],
   "source": [
    "\"\"\"\n",
    "yggdrasil = {\n",
    "    # province it starts in\n",
    "    start = 22\n",
    "    date = 1444.01.01\n",
    "    build_cost = 0\n",
    "    can_be_moved = no\n",
    "    move_days_per_unit_distance = 1\n",
    "    starting_tier = 1\n",
    "    type = monument\n",
    "\n",
    "    time = {\n",
    "        months = 0\n",
    "    }\n",
    "    build_trigger = {\n",
    "    }\n",
    "    can_use_modifiers_trigger = {\n",
    "    }\n",
    "    can_upgrade_trigger = {\n",
    "    }\n",
    "    keep_trigger = {\n",
    "    }\n",
    "\n",
    "    #tier data\n",
    "    tier_0 = {\n",
    "        upgrade_time = {\n",
    "            months = 0\n",
    "        }\n",
    "        province_modifiers = {\n",
    "        }\n",
    "        area_modifier = {\n",
    "        }\n",
    "        country_modifiers = {\n",
    "        }\n",
    "        on_upgraded = {\n",
    "        }\n",
    "    }\n",
    "\n",
    "    tier_1 = {\n",
    "        upgrade_time = {\n",
    "            months = 120\n",
    "        }\n",
    "        cost_to_upgrade = {\n",
    "            factor = 1000\n",
    "        }\n",
    "        province_modifiers = {\n",
    "        }\n",
    "        area_modifier = {\n",
    "            local_unrest = -1\n",
    "        }\n",
    "        country_modifiers = {\n",
    "            administrative_efficiency = 0.05\n",
    "            global_manpower_modifier = 0.25\n",
    "        }\n",
    "        on_upgraded = {\n",
    "        }\n",
    "    }\n",
    "}\n",
    "\"\"\""
   ]
  },
  {
   "cell_type": "code",
   "execution_count": 67,
   "id": "07f27a8d",
   "metadata": {
    "scrolled": true
   },
   "outputs": [
    {
     "name": "stdout",
     "output_type": "stream",
     "text": [
      "spriteTypes = {\n",
      "    spriteType = {\n",
      "        name = \"GFX_great_project_a\"\n",
      "        texturefile = \"gfx//interface//great_projects//great_project_a.dds\"\n",
      "    }\n",
      "    spriteType = {\n",
      "        name = \"GFX_great_project_hanging_gardens\"\n",
      "        texturefile = \"gfx//interface//great_projects//great_project_hanging_gardens.dds\"\n",
      "    }\n",
      "}\n"
     ]
    }
   ],
   "source": [
    "hanging_gardens = monument('hanging_gardens', 2, 144, tr1, tr2, tr3)\n",
    "\n",
    "monums = [a,hanging_gardens]\n",
    "print(gfx_text(monums))"
   ]
  },
  {
   "cell_type": "code",
   "execution_count": null,
   "id": "f73ec265",
   "metadata": {},
   "outputs": [],
   "source": [
    "\"\"\"\n",
    "spriteTypes = {\n",
    "    spriteType = {\n",
    "        name = \"GFX_great_project_yggdrasil\"\n",
    "        texturefile = \"gfx//interface//great_projects//great_project_yggdrasil.dds\"\n",
    "    }\n",
    "    spriteType = {\n",
    "        name = \"GFX_great_project_granavollen_runestone\"\n",
    "        texturefile = \"gfx//interface//great_projects//great_project_granavollen_runestone.dds\"\n",
    "    }\n",
    "}\n",
    "\"\"\""
   ]
  },
  {
   "cell_type": "code",
   "execution_count": 70,
   "id": "c762b5dc",
   "metadata": {},
   "outputs": [
    {
     "name": "stdout",
     "output_type": "stream",
     "text": [
      "The Hanging Gardens\n"
     ]
    }
   ],
   "source": [
    "u = 'the_hanging_gardens'\n",
    "print(cap_name(u))"
   ]
  },
  {
   "cell_type": "code",
   "execution_count": 71,
   "id": "310083d3",
   "metadata": {},
   "outputs": [
    {
     "name": "stdout",
     "output_type": "stream",
     "text": [
      "l_english:\n",
      " a_title:0 \"A\"\n",
      " a:0 \"A\"\n",
      " great_project_a_title:0 \"A\"\n",
      " hanging_gardens_title:0 \"Hanging Gardens\"\n",
      " hanging_gardens:0 \"Hanging Gardens\"\n",
      " great_project_hanging_gardens_title:0 \"Hanging Gardens\"\n",
      "\n"
     ]
    }
   ],
   "source": [
    "print(yml_txt(monums))"
   ]
  },
  {
   "cell_type": "code",
   "execution_count": null,
   "id": "ab69e447",
   "metadata": {},
   "outputs": [],
   "source": [
    "\"\"\"\n",
    "l_english:\n",
    " yggdrasil_title:0 \"Yggdrasil\"\n",
    " yggdrasil:0 \"Yggdrasil\"\n",
    " great_project_yggdrasil:0 \"Yggdrasil\"\n",
    " granavollen_runestone_title:0 \"Granavollen Runestone\"\n",
    " granavollen_runestone:0 \"Granavollen Runestone\"\n",
    " great_project_granavollen_runestone:0 \"Granavollen Runestone\"\n",
    "\n",
    "\"\"\""
   ]
  }
 ],
 "metadata": {
  "kernelspec": {
   "display_name": "Python 3 (ipykernel)",
   "language": "python",
   "name": "python3"
  },
  "language_info": {
   "codemirror_mode": {
    "name": "ipython",
    "version": 3
   },
   "file_extension": ".py",
   "mimetype": "text/x-python",
   "name": "python",
   "nbconvert_exporter": "python",
   "pygments_lexer": "ipython3",
   "version": "3.9.1"
  }
 },
 "nbformat": 4,
 "nbformat_minor": 5
}
