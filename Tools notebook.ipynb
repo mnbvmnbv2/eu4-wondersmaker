{
 "cells": [
  {
   "cell_type": "markdown",
   "id": "8085e763",
   "metadata": {},
   "source": [
    "# Tools for making wonders"
   ]
  },
  {
   "cell_type": "code",
   "execution_count": 1,
   "id": "a5e765ea",
   "metadata": {},
   "outputs": [],
   "source": [
    "from functions import *"
   ]
  },
  {
   "cell_type": "code",
   "execution_count": 2,
   "id": "3f723259",
   "metadata": {
    "scrolled": true
   },
   "outputs": [],
   "source": [
    "tr1 = tier(1, 120, 1000, [], ['local_unrest = -1'], ['administrative_efficiency = 0.05', 'global_manpower_modifier = 0.25'], [])\n",
    "tr2 = tier(2, 120, 1000, [], [], ['administrative_efficiency = 0.05', 'global_manpower_modifier = 0.25'], [])\n",
    "tr3 = tier(3, 120, 1000, [], [], ['administrative_efficiency = 0.05'], [])"
   ]
  },
  {
   "cell_type": "code",
   "execution_count": 3,
   "id": "07f27a8d",
   "metadata": {
    "scrolled": true
   },
   "outputs": [],
   "source": [
    "a = monument('a', 1, 1, tr1, tr2, tr3)\n",
    "hanging_gardens = monument('hanging_gardens', 144, 2, tr1, tr2, tr3)\n",
    "\n",
    "monums = [a, hanging_gardens]"
   ]
  },
  {
   "cell_type": "code",
   "execution_count": 4,
   "id": "47a52f6b",
   "metadata": {},
   "outputs": [
    {
     "name": "stdout",
     "output_type": "stream",
     "text": [
      "a = {\n",
      "    start = 1\n",
      "    date = 1444.01.01\n",
      "    build_cost = 0\n",
      "    can_be_moved = no\n",
      "    move_days_per_unit_distance = 1\n",
      "    starting_tier = 1\n",
      "    type = monument\n",
      "    time = {\n",
      "        months = 0\n",
      "    }\n",
      "    build_trigger = {\n",
      "    }\n",
      "    can_use_modifiers_trigger = {\n",
      "    }\n",
      "    can_upgrade_trigger = {\n",
      "    }\n",
      "    keep_trigger = {\n",
      "    }\n",
      "    tier_0 = {\n",
      "        upgrade_time = {\n",
      "            months = 0\n",
      "        }\n",
      "        cost_to_upgrade = {\n",
      "            factor = %(cost)d\n",
      "        }\n",
      "        province_modifiers = {\n",
      "        }\n",
      "        area_modifier = {\n",
      "        }\n",
      "        country_modifiers = {\n",
      "        }\n",
      "        on_upgraded = {\n",
      "        }\n",
      "    }\n",
      "    tier_1 = {\n",
      "        upgrade_time = {\n",
      "            months = 120\n",
      "        }\n",
      "        province_modifiers = {\n",
      "\n",
      "        }\n",
      "        area_modifier = {\n",
      "            local_unrest = -1\n",
      "        }\n",
      "        country_modifiers = {\n",
      "            administrative_efficiency = 0.05\n",
      "            global_manpower_modifier = 0.25\n",
      "        }\n",
      "        on_upgraded = {\n",
      "\n",
      "        }\n",
      "    }\n",
      "    tier_2 = {\n",
      "        upgrade_time = {\n",
      "            months = 120\n",
      "        }\n",
      "        province_modifiers = {\n",
      "\n",
      "        }\n",
      "        area_modifier = {\n",
      "\n",
      "        }\n",
      "        country_modifiers = {\n",
      "            administrative_efficiency = 0.05\n",
      "            global_manpower_modifier = 0.25\n",
      "        }\n",
      "        on_upgraded = {\n",
      "\n",
      "        }\n",
      "    }\n",
      "    tier_3 = {\n",
      "        upgrade_time = {\n",
      "            months = 120\n",
      "        }\n",
      "        province_modifiers = {\n",
      "\n",
      "        }\n",
      "        area_modifier = {\n",
      "\n",
      "        }\n",
      "        country_modifiers = {\n",
      "            administrative_efficiency = 0.05\n",
      "        }\n",
      "        on_upgraded = {\n",
      "\n",
      "        }\n",
      "    }\n",
      "}\n",
      "hanging_gardens = {\n",
      "    start = 144\n",
      "    date = 1444.01.01\n",
      "    build_cost = 0\n",
      "    can_be_moved = no\n",
      "    move_days_per_unit_distance = 1\n",
      "    starting_tier = 2\n",
      "    type = monument\n",
      "    time = {\n",
      "        months = 0\n",
      "    }\n",
      "    build_trigger = {\n",
      "    }\n",
      "    can_use_modifiers_trigger = {\n",
      "    }\n",
      "    can_upgrade_trigger = {\n",
      "    }\n",
      "    keep_trigger = {\n",
      "    }\n",
      "    tier_0 = {\n",
      "        upgrade_time = {\n",
      "            months = 0\n",
      "        }\n",
      "        cost_to_upgrade = {\n",
      "            factor = %(cost)d\n",
      "        }\n",
      "        province_modifiers = {\n",
      "        }\n",
      "        area_modifier = {\n",
      "        }\n",
      "        country_modifiers = {\n",
      "        }\n",
      "        on_upgraded = {\n",
      "        }\n",
      "    }\n",
      "    tier_1 = {\n",
      "        upgrade_time = {\n",
      "            months = 120\n",
      "        }\n",
      "        province_modifiers = {\n",
      "\n",
      "        }\n",
      "        area_modifier = {\n",
      "            local_unrest = -1\n",
      "        }\n",
      "        country_modifiers = {\n",
      "            administrative_efficiency = 0.05\n",
      "            global_manpower_modifier = 0.25\n",
      "        }\n",
      "        on_upgraded = {\n",
      "\n",
      "        }\n",
      "    }\n",
      "    tier_2 = {\n",
      "        upgrade_time = {\n",
      "            months = 120\n",
      "        }\n",
      "        province_modifiers = {\n",
      "\n",
      "        }\n",
      "        area_modifier = {\n",
      "\n",
      "        }\n",
      "        country_modifiers = {\n",
      "            administrative_efficiency = 0.05\n",
      "            global_manpower_modifier = 0.25\n",
      "        }\n",
      "        on_upgraded = {\n",
      "\n",
      "        }\n",
      "    }\n",
      "    tier_3 = {\n",
      "        upgrade_time = {\n",
      "            months = 120\n",
      "        }\n",
      "        province_modifiers = {\n",
      "\n",
      "        }\n",
      "        area_modifier = {\n",
      "\n",
      "        }\n",
      "        country_modifiers = {\n",
      "            administrative_efficiency = 0.05\n",
      "        }\n",
      "        on_upgraded = {\n",
      "\n",
      "        }\n",
      "    }\n",
      "}\n",
      "\n"
     ]
    }
   ],
   "source": [
    "print(common_txt(monums))"
   ]
  },
  {
   "cell_type": "code",
   "execution_count": 5,
   "id": "39568c57",
   "metadata": {},
   "outputs": [
    {
     "name": "stdout",
     "output_type": "stream",
     "text": [
      "spriteTypes = {\n",
      "    spriteType = {\n",
      "        name = \"GFX_great_project_a\"\n",
      "        texturefile = \"gfx//interface//great_projects//great_project_a.dds\"\n",
      "    }\n",
      "    spriteType = {\n",
      "        name = \"GFX_great_project_hanging_gardens\"\n",
      "        texturefile = \"gfx//interface//great_projects//great_project_hanging_gardens.dds\"\n",
      "    }\n",
      "}\n"
     ]
    }
   ],
   "source": [
    "print(gfx_text(monums))"
   ]
  },
  {
   "cell_type": "code",
   "execution_count": 6,
   "id": "310083d3",
   "metadata": {},
   "outputs": [
    {
     "name": "stdout",
     "output_type": "stream",
     "text": [
      "l_english:\n",
      " a_title:0 \"A\"\n",
      " a:0 \"A\"\n",
      " great_project_a_title:0 \"A\"\n",
      " hanging_gardens_title:0 \"Hanging Gardens\"\n",
      " hanging_gardens:0 \"Hanging Gardens\"\n",
      " great_project_hanging_gardens_title:0 \"Hanging Gardens\"\n",
      "\n"
     ]
    }
   ],
   "source": [
    "print(yml_txt(monums))"
   ]
  },
  {
   "cell_type": "code",
   "execution_count": 7,
   "id": "4a1183f9",
   "metadata": {},
   "outputs": [],
   "source": [
    "mod_name = 'norway_monuments'"
   ]
  },
  {
   "cell_type": "code",
   "execution_count": 8,
   "id": "f29814d3",
   "metadata": {},
   "outputs": [],
   "source": [
    "write_filesa(mod_name, monums)"
   ]
  },
  {
   "cell_type": "code",
   "execution_count": null,
   "id": "b00ade53",
   "metadata": {},
   "outputs": [],
   "source": []
  },
  {
   "cell_type": "code",
   "execution_count": 9,
   "id": "971fa9d2",
   "metadata": {},
   "outputs": [],
   "source": [
    "descriptor_file('1.0', 'Wonders of aaa', '1.32.2.0', 2540783390)"
   ]
  },
  {
   "cell_type": "code",
   "execution_count": 10,
   "id": "8986913b",
   "metadata": {},
   "outputs": [],
   "source": [
    "f = open('monuments.csv', 'r')\n",
    "monuments_raw = []\n",
    "for x in f:\n",
    "    monuments_raw.append(x.split(';'))"
   ]
  },
  {
   "cell_type": "code",
   "execution_count": 12,
   "id": "c63019c6",
   "metadata": {},
   "outputs": [],
   "source": []
  },
  {
   "cell_type": "code",
   "execution_count": 13,
   "id": "d5dddacf",
   "metadata": {},
   "outputs": [],
   "source": [
    "def raw_to_dicts(monuments_raw):\n",
    "    monuments_raw_copy = monuments_raw\n",
    "    monuments_raw_copy.pop(0)\n",
    "    monuments = []\n",
    "    for raw in monuments_raw_copy:\n",
    "        print(raw)\n",
    "        tier1 = tier(1, int(raw[3]), int(raw[4]), parse_modifs(raw[5]), parse_modifs(raw[6]), parse_modifs(raw[7]), parse_modifs(raw[8]))\n",
    "        tier2 = tier(2, int(raw[9]), int(raw[10]), parse_modifs(raw[11]), parse_modifs(raw[12]), parse_modifs(raw[13]), parse_modifs(raw[14]))\n",
    "        tier3 = tier(3, int(raw[15]), int(raw[16]), parse_modifs(raw[17]), parse_modifs(raw[18]), parse_modifs(raw[19]), parse_modifs(raw[20]))\n",
    "        monuments.append(monument(raw[0], raw[1], raw[2], tier1, tier2, tier3))\n",
    "    return monuments"
   ]
  },
  {
   "cell_type": "code",
   "execution_count": 14,
   "id": "79b920ec",
   "metadata": {},
   "outputs": [
    {
     "name": "stdout",
     "output_type": "stream",
     "text": [
      "['akershus festning', '44', '1', '10', '1000', 'defensiveness = 0.10', '', 'land_attrition = -0.05,global_regiment_cost = -0.05', '', '20', '2500', 'defensiveness = 0.20', '', 'land_attrition = -0.1,global_regiment_cost = -0.1,manpower_recovery_speed = 0.10', '', '40', '5000', 'defensiveness = 0.35', 'defensiveness = 0.35', 'land_attrition = -0.15,global_regiment_cost = -0.15,manpower_recovery_speed = 0.10', '']\n"
     ]
    },
    {
     "data": {
      "text/plain": [
       "[{'name': 'akershus festning',\n",
       "  'province': '44',\n",
       "  'start_tier': '1',\n",
       "  'tier1': {'tier': 'tier_1',\n",
       "   'upgrade_time': 10,\n",
       "   'upgrade_cost': 1000,\n",
       "   'province_mods': ['defensiveness = 0.10'],\n",
       "   'area_mods': [],\n",
       "   'country_mods': ['land_attrition = -0.05', 'global_regiment_cost = -0.05'],\n",
       "   'on_upgraded': []},\n",
       "  'tier2': {'tier': 'tier_2',\n",
       "   'upgrade_time': 20,\n",
       "   'upgrade_cost': 2500,\n",
       "   'province_mods': ['defensiveness = 0.20'],\n",
       "   'area_mods': [],\n",
       "   'country_mods': ['land_attrition = -0.1',\n",
       "    'global_regiment_cost = -0.1',\n",
       "    'manpower_recovery_speed = 0.10'],\n",
       "   'on_upgraded': []},\n",
       "  'tier3': {'tier': 'tier_3',\n",
       "   'upgrade_time': 40,\n",
       "   'upgrade_cost': 5000,\n",
       "   'province_mods': ['defensiveness = 0.35'],\n",
       "   'area_mods': ['defensiveness = 0.35'],\n",
       "   'country_mods': ['land_attrition = -0.15',\n",
       "    'global_regiment_cost = -0.15',\n",
       "    'manpower_recovery_speed = 0.10'],\n",
       "   'on_upgraded': []}}]"
      ]
     },
     "execution_count": 14,
     "metadata": {},
     "output_type": "execute_result"
    }
   ],
   "source": [
    "raw_to_dicts(monuments_raw)"
   ]
  },
  {
   "cell_type": "code",
   "execution_count": null,
   "id": "38e8da55",
   "metadata": {},
   "outputs": [],
   "source": []
  }
 ],
 "metadata": {
  "kernelspec": {
   "display_name": "Python 3 (ipykernel)",
   "language": "python",
   "name": "python3"
  },
  "language_info": {
   "codemirror_mode": {
    "name": "ipython",
    "version": 3
   },
   "file_extension": ".py",
   "mimetype": "text/x-python",
   "name": "python",
   "nbconvert_exporter": "python",
   "pygments_lexer": "ipython3",
   "version": "3.9.1"
  }
 },
 "nbformat": 4,
 "nbformat_minor": 5
}
