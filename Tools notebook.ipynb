{
 "cells": [
  {
   "cell_type": "markdown",
   "id": "8085e763",
   "metadata": {},
   "source": [
    "# Tools for making wonders"
   ]
  },
  {
   "cell_type": "code",
   "execution_count": 1,
   "id": "a5e765ea",
   "metadata": {},
   "outputs": [],
   "source": [
    "from functions import *"
   ]
  },
  {
   "cell_type": "code",
   "execution_count": 2,
   "id": "3f723259",
   "metadata": {
    "scrolled": true
   },
   "outputs": [],
   "source": [
    "tr1 = tier(1, 120, 1000, [], ['local_unrest = -1'], ['administrative_efficiency = 0.05', 'global_manpower_modifier = 0.25'], [])\n",
    "tr2 = tier(2, 120, 1000, [], [], ['administrative_efficiency = 0.05', 'global_manpower_modifier = 0.25'], [])\n",
    "tr3 = tier(3, 120, 1000, [], [], ['administrative_efficiency = 0.05'], [])"
   ]
  },
  {
   "cell_type": "code",
   "execution_count": 3,
   "id": "07f27a8d",
   "metadata": {
    "scrolled": true
   },
   "outputs": [],
   "source": [
    "a = monument('a', 1, 1, tr1, tr2, tr3)\n",
    "hanging_gardens = monument('hanging_gardens', 144, 2, tr1, tr2, tr3)\n",
    "\n",
    "monums = [a, hanging_gardens]"
   ]
  },
  {
   "cell_type": "code",
   "execution_count": 4,
   "id": "47a52f6b",
   "metadata": {},
   "outputs": [
    {
     "name": "stdout",
     "output_type": "stream",
     "text": [
      "a = {\n",
      "    start = 1\n",
      "    date = 1444.01.01\n",
      "    build_cost = 0\n",
      "    can_be_moved = no\n",
      "    move_days_per_unit_distance = 1\n",
      "    starting_tier = 1\n",
      "    type = monument\n",
      "    time = {\n",
      "        months = 0\n",
      "    }\n",
      "    build_trigger = {\n",
      "    }\n",
      "    can_use_modifiers_trigger = {\n",
      "    }\n",
      "    can_upgrade_trigger = {\n",
      "    }\n",
      "    keep_trigger = {\n",
      "    }\n",
      "    tier_0 = {\n",
      "        upgrade_time = {\n",
      "            months = 0\n",
      "        }\n",
      "        cost_to_upgrade = {\n",
      "            factor = %(cost)d\n",
      "        }\n",
      "        province_modifiers = {\n",
      "        }\n",
      "        area_modifier = {\n",
      "        }\n",
      "        country_modifiers = {\n",
      "        }\n",
      "        on_upgraded = {\n",
      "        }\n",
      "    }\n",
      "    tier_1 = {\n",
      "        upgrade_time = {\n",
      "            months = 120\n",
      "        }\n",
      "        province_modifiers = {\n",
      "\n",
      "        }\n",
      "        area_modifier = {\n",
      "            local_unrest = -1\n",
      "        }\n",
      "        country_modifiers = {\n",
      "            administrative_efficiency = 0.05\n",
      "            global_manpower_modifier = 0.25\n",
      "        }\n",
      "        on_upgraded = {\n",
      "\n",
      "        }\n",
      "    }\n",
      "    tier_2 = {\n",
      "        upgrade_time = {\n",
      "            months = 120\n",
      "        }\n",
      "        province_modifiers = {\n",
      "\n",
      "        }\n",
      "        area_modifier = {\n",
      "\n",
      "        }\n",
      "        country_modifiers = {\n",
      "            administrative_efficiency = 0.05\n",
      "            global_manpower_modifier = 0.25\n",
      "        }\n",
      "        on_upgraded = {\n",
      "\n",
      "        }\n",
      "    }\n",
      "    tier_3 = {\n",
      "        upgrade_time = {\n",
      "            months = 120\n",
      "        }\n",
      "        province_modifiers = {\n",
      "\n",
      "        }\n",
      "        area_modifier = {\n",
      "\n",
      "        }\n",
      "        country_modifiers = {\n",
      "            administrative_efficiency = 0.05\n",
      "        }\n",
      "        on_upgraded = {\n",
      "\n",
      "        }\n",
      "    }\n",
      "}\n",
      "hanging_gardens = {\n",
      "    start = 144\n",
      "    date = 1444.01.01\n",
      "    build_cost = 0\n",
      "    can_be_moved = no\n",
      "    move_days_per_unit_distance = 1\n",
      "    starting_tier = 2\n",
      "    type = monument\n",
      "    time = {\n",
      "        months = 0\n",
      "    }\n",
      "    build_trigger = {\n",
      "    }\n",
      "    can_use_modifiers_trigger = {\n",
      "    }\n",
      "    can_upgrade_trigger = {\n",
      "    }\n",
      "    keep_trigger = {\n",
      "    }\n",
      "    tier_0 = {\n",
      "        upgrade_time = {\n",
      "            months = 0\n",
      "        }\n",
      "        cost_to_upgrade = {\n",
      "            factor = %(cost)d\n",
      "        }\n",
      "        province_modifiers = {\n",
      "        }\n",
      "        area_modifier = {\n",
      "        }\n",
      "        country_modifiers = {\n",
      "        }\n",
      "        on_upgraded = {\n",
      "        }\n",
      "    }\n",
      "    tier_1 = {\n",
      "        upgrade_time = {\n",
      "            months = 120\n",
      "        }\n",
      "        province_modifiers = {\n",
      "\n",
      "        }\n",
      "        area_modifier = {\n",
      "            local_unrest = -1\n",
      "        }\n",
      "        country_modifiers = {\n",
      "            administrative_efficiency = 0.05\n",
      "            global_manpower_modifier = 0.25\n",
      "        }\n",
      "        on_upgraded = {\n",
      "\n",
      "        }\n",
      "    }\n",
      "    tier_2 = {\n",
      "        upgrade_time = {\n",
      "            months = 120\n",
      "        }\n",
      "        province_modifiers = {\n",
      "\n",
      "        }\n",
      "        area_modifier = {\n",
      "\n",
      "        }\n",
      "        country_modifiers = {\n",
      "            administrative_efficiency = 0.05\n",
      "            global_manpower_modifier = 0.25\n",
      "        }\n",
      "        on_upgraded = {\n",
      "\n",
      "        }\n",
      "    }\n",
      "    tier_3 = {\n",
      "        upgrade_time = {\n",
      "            months = 120\n",
      "        }\n",
      "        province_modifiers = {\n",
      "\n",
      "        }\n",
      "        area_modifier = {\n",
      "\n",
      "        }\n",
      "        country_modifiers = {\n",
      "            administrative_efficiency = 0.05\n",
      "        }\n",
      "        on_upgraded = {\n",
      "\n",
      "        }\n",
      "    }\n",
      "}\n",
      "\n"
     ]
    }
   ],
   "source": [
    "print(common_txt(monums))"
   ]
  },
  {
   "cell_type": "code",
   "execution_count": 5,
   "id": "39568c57",
   "metadata": {},
   "outputs": [
    {
     "name": "stdout",
     "output_type": "stream",
     "text": [
      "spriteTypes = {\n",
      "    spriteType = {\n",
      "        name = \"GFX_great_project_a\"\n",
      "        texturefile = \"gfx//interface//great_projects//great_project_a.dds\"\n",
      "    }\n",
      "    spriteType = {\n",
      "        name = \"GFX_great_project_hanging_gardens\"\n",
      "        texturefile = \"gfx//interface//great_projects//great_project_hanging_gardens.dds\"\n",
      "    }\n",
      "}\n"
     ]
    }
   ],
   "source": [
    "print(gfx_text(monums))"
   ]
  },
  {
   "cell_type": "code",
   "execution_count": 6,
   "id": "310083d3",
   "metadata": {},
   "outputs": [
    {
     "name": "stdout",
     "output_type": "stream",
     "text": [
      "l_english:\n",
      " a_title:0 \"A\"\n",
      " a:0 \"A\"\n",
      " great_project_a_title:0 \"A\"\n",
      " hanging_gardens_title:0 \"Hanging Gardens\"\n",
      " hanging_gardens:0 \"Hanging Gardens\"\n",
      " great_project_hanging_gardens_title:0 \"Hanging Gardens\"\n",
      "\n"
     ]
    }
   ],
   "source": [
    "print(yml_txt(monums))"
   ]
  },
  {
   "cell_type": "code",
   "execution_count": 7,
   "id": "4a1183f9",
   "metadata": {},
   "outputs": [],
   "source": [
    "mod_name = 'norway_monuments'"
   ]
  },
  {
   "cell_type": "code",
   "execution_count": 11,
   "id": "d8543100",
   "metadata": {},
   "outputs": [],
   "source": [
    "import os\n",
    "def write_filesa(mod_name, monuments):\n",
    "    common_dir = 'common/great_projects'\n",
    "    os.makedirs(common_dir)\n",
    "    common = '{}/01_{}.txt'.format(common_dir, mod_name)\n",
    "    interface_dir = 'interface'\n",
    "    os.makedirs(interface_dir)\n",
    "    interface = '{}/{}.gfx'.format(interface_dir, mod_name)\n",
    "    localisation_dir = 'localisation'\n",
    "    os.makedirs(localisation_dir)\n",
    "    localisation = '{}/{}_l_english.yml'.format(localisation_dir, mod_name)\n",
    "    f = open(common, 'w')\n",
    "    f.write(common_txt(monuments))\n",
    "    f.close()\n",
    "    f = open(interface, 'w')\n",
    "    f.write(gfx_text(monuments))\n",
    "    f.close()\n",
    "    f = open(localisation, 'w')\n",
    "    f.write(yml_txt(monuments))\n",
    "    f.close()"
   ]
  },
  {
   "cell_type": "code",
   "execution_count": 12,
   "id": "f29814d3",
   "metadata": {},
   "outputs": [
    {
     "ename": "FileExistsError",
     "evalue": "[WinError 183] Cannot create a file when that file already exists: 'interface'",
     "output_type": "error",
     "traceback": [
      "\u001b[1;31m---------------------------------------------------------------------------\u001b[0m",
      "\u001b[1;31mFileExistsError\u001b[0m                           Traceback (most recent call last)",
      "\u001b[1;32m~\\AppData\\Local\\Temp/ipykernel_2088/2057961411.py\u001b[0m in \u001b[0;36m<module>\u001b[1;34m\u001b[0m\n\u001b[1;32m----> 1\u001b[1;33m \u001b[0mwrite_filesa\u001b[0m\u001b[1;33m(\u001b[0m\u001b[0mmod_name\u001b[0m\u001b[1;33m,\u001b[0m \u001b[0mmonums\u001b[0m\u001b[1;33m)\u001b[0m\u001b[1;33m\u001b[0m\u001b[1;33m\u001b[0m\u001b[0m\n\u001b[0m",
      "\u001b[1;32m~\\AppData\\Local\\Temp/ipykernel_2088/494680085.py\u001b[0m in \u001b[0;36mwrite_filesa\u001b[1;34m(mod_name, monuments)\u001b[0m\n\u001b[0;32m      5\u001b[0m     \u001b[0mcommon\u001b[0m \u001b[1;33m=\u001b[0m \u001b[1;34m'{}/01_{}.txt'\u001b[0m\u001b[1;33m.\u001b[0m\u001b[0mformat\u001b[0m\u001b[1;33m(\u001b[0m\u001b[0mcommon_dir\u001b[0m\u001b[1;33m,\u001b[0m \u001b[0mmod_name\u001b[0m\u001b[1;33m)\u001b[0m\u001b[1;33m\u001b[0m\u001b[1;33m\u001b[0m\u001b[0m\n\u001b[0;32m      6\u001b[0m     \u001b[0minterface_dir\u001b[0m \u001b[1;33m=\u001b[0m \u001b[1;34m'interface'\u001b[0m\u001b[1;33m\u001b[0m\u001b[1;33m\u001b[0m\u001b[0m\n\u001b[1;32m----> 7\u001b[1;33m     \u001b[0mos\u001b[0m\u001b[1;33m.\u001b[0m\u001b[0mmakedirs\u001b[0m\u001b[1;33m(\u001b[0m\u001b[0minterface_dir\u001b[0m\u001b[1;33m)\u001b[0m\u001b[1;33m\u001b[0m\u001b[1;33m\u001b[0m\u001b[0m\n\u001b[0m\u001b[0;32m      8\u001b[0m     \u001b[0minterface\u001b[0m \u001b[1;33m=\u001b[0m \u001b[1;34m'{}/{}.gfx'\u001b[0m\u001b[1;33m.\u001b[0m\u001b[0mformat\u001b[0m\u001b[1;33m(\u001b[0m\u001b[0minterface_dir\u001b[0m\u001b[1;33m,\u001b[0m \u001b[0mmod_name\u001b[0m\u001b[1;33m)\u001b[0m\u001b[1;33m\u001b[0m\u001b[1;33m\u001b[0m\u001b[0m\n\u001b[0;32m      9\u001b[0m     \u001b[0mlocalisation_dir\u001b[0m \u001b[1;33m=\u001b[0m \u001b[1;34m'localisation'\u001b[0m\u001b[1;33m\u001b[0m\u001b[1;33m\u001b[0m\u001b[0m\n",
      "\u001b[1;32m~\\AppData\\Local\\Programs\\Python\\Python39\\lib\\os.py\u001b[0m in \u001b[0;36mmakedirs\u001b[1;34m(name, mode, exist_ok)\u001b[0m\n\u001b[0;32m    223\u001b[0m             \u001b[1;32mreturn\u001b[0m\u001b[1;33m\u001b[0m\u001b[1;33m\u001b[0m\u001b[0m\n\u001b[0;32m    224\u001b[0m     \u001b[1;32mtry\u001b[0m\u001b[1;33m:\u001b[0m\u001b[1;33m\u001b[0m\u001b[1;33m\u001b[0m\u001b[0m\n\u001b[1;32m--> 225\u001b[1;33m         \u001b[0mmkdir\u001b[0m\u001b[1;33m(\u001b[0m\u001b[0mname\u001b[0m\u001b[1;33m,\u001b[0m \u001b[0mmode\u001b[0m\u001b[1;33m)\u001b[0m\u001b[1;33m\u001b[0m\u001b[1;33m\u001b[0m\u001b[0m\n\u001b[0m\u001b[0;32m    226\u001b[0m     \u001b[1;32mexcept\u001b[0m \u001b[0mOSError\u001b[0m\u001b[1;33m:\u001b[0m\u001b[1;33m\u001b[0m\u001b[1;33m\u001b[0m\u001b[0m\n\u001b[0;32m    227\u001b[0m         \u001b[1;31m# Cannot rely on checking for EEXIST, since the operating system\u001b[0m\u001b[1;33m\u001b[0m\u001b[1;33m\u001b[0m\u001b[1;33m\u001b[0m\u001b[0m\n",
      "\u001b[1;31mFileExistsError\u001b[0m: [WinError 183] Cannot create a file when that file already exists: 'interface'"
     ]
    }
   ],
   "source": [
    "write_filesa(mod_name, monums)"
   ]
  },
  {
   "cell_type": "code",
   "execution_count": null,
   "id": "7e939cb4",
   "metadata": {},
   "outputs": [],
   "source": []
  }
 ],
 "metadata": {
  "kernelspec": {
   "display_name": "Python 3 (ipykernel)",
   "language": "python",
   "name": "python3"
  },
  "language_info": {
   "codemirror_mode": {
    "name": "ipython",
    "version": 3
   },
   "file_extension": ".py",
   "mimetype": "text/x-python",
   "name": "python",
   "nbconvert_exporter": "python",
   "pygments_lexer": "ipython3",
   "version": "3.9.1"
  }
 },
 "nbformat": 4,
 "nbformat_minor": 5
}
