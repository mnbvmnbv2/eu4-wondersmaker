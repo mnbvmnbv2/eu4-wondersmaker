{
 "cells": [
  {
   "cell_type": "markdown",
   "id": "8085e763",
   "metadata": {},
   "source": [
    "# Tools for making wonders"
   ]
  },
  {
   "cell_type": "code",
   "execution_count": 1,
   "id": "a5e765ea",
   "metadata": {},
   "outputs": [],
   "source": [
    "from functions import *"
   ]
  },
  {
   "cell_type": "code",
   "execution_count": 2,
   "id": "3f723259",
   "metadata": {
    "scrolled": true
   },
   "outputs": [],
   "source": [
    "tr1 = tier(1, 120, 1000, [], ['local_unrest = -1'], ['administrative_efficiency = 0.05', 'global_manpower_modifier = 0.25'], [])\n",
    "tr2 = tier(2, 120, 1000, [], [], ['administrative_efficiency = 0.05', 'global_manpower_modifier = 0.25'], [])\n",
    "tr3 = tier(3, 120, 1000, [], [], ['administrative_efficiency = 0.05'], [])"
   ]
  },
  {
   "cell_type": "code",
   "execution_count": 3,
   "id": "07f27a8d",
   "metadata": {
    "scrolled": true
   },
   "outputs": [],
   "source": [
    "a = monument('a', 1, 1, tr1, tr2, tr3)\n",
    "hanging_gardens = monument('hanging_gardens', 144, 2, tr1, tr2, tr3)\n",
    "\n",
    "monums = [a, hanging_gardens]"
   ]
  },
  {
   "cell_type": "code",
   "execution_count": 4,
   "id": "369ac002",
   "metadata": {},
   "outputs": [],
   "source": [
    "def common_txt(monuments):\n",
    "    txt = ''\n",
    "    for m in monuments:\n",
    "        txt += to_txt(m)\n",
    "    return txt"
   ]
  },
  {
   "cell_type": "code",
   "execution_count": 5,
   "id": "47a52f6b",
   "metadata": {},
   "outputs": [
    {
     "name": "stdout",
     "output_type": "stream",
     "text": [
      "a = {\n",
      "    start = 1\n",
      "    date = 1444.01.01\n",
      "    build_cost = 0\n",
      "    can_be_moved = no\n",
      "    move_days_per_unit_distance = 1\n",
      "    starting_tier = 1\n",
      "    type = monument\n",
      "    time = {\n",
      "        months = 0\n",
      "    }\n",
      "    build_trigger = {\n",
      "    }\n",
      "    can_use_modifiers_trigger = {\n",
      "    }\n",
      "    can_upgrade_trigger = {\n",
      "    }\n",
      "    keep_trigger = {\n",
      "    }\n",
      "    tier_0 = {\n",
      "        upgrade_time = {\n",
      "            months = 0\n",
      "        }\n",
      "        cost_to_upgrade = {\n",
      "            factor = %(cost)d\n",
      "        }\n",
      "        province_modifiers = {\n",
      "        }\n",
      "        area_modifier = {\n",
      "        }\n",
      "        country_modifiers = {\n",
      "        }\n",
      "        on_upgraded = {\n",
      "        }\n",
      "    }\n",
      "    tier_1 = {\n",
      "        upgrade_time = {\n",
      "            months = 120\n",
      "        }\n",
      "        province_modifiers = {\n",
      "\n",
      "        }\n",
      "        area_modifier = {\n",
      "            local_unrest = -1\n",
      "        }\n",
      "        country_modifiers = {\n",
      "            administrative_efficiency = 0.05\n",
      "            global_manpower_modifier = 0.25\n",
      "        }\n",
      "        on_upgraded = {\n",
      "\n",
      "        }\n",
      "    }\n",
      "    tier_2 = {\n",
      "        upgrade_time = {\n",
      "            months = 120\n",
      "        }\n",
      "        province_modifiers = {\n",
      "\n",
      "        }\n",
      "        area_modifier = {\n",
      "\n",
      "        }\n",
      "        country_modifiers = {\n",
      "            administrative_efficiency = 0.05\n",
      "            global_manpower_modifier = 0.25\n",
      "        }\n",
      "        on_upgraded = {\n",
      "\n",
      "        }\n",
      "    }\n",
      "    tier_3 = {\n",
      "        upgrade_time = {\n",
      "            months = 120\n",
      "        }\n",
      "        province_modifiers = {\n",
      "\n",
      "        }\n",
      "        area_modifier = {\n",
      "\n",
      "        }\n",
      "        country_modifiers = {\n",
      "            administrative_efficiency = 0.05\n",
      "        }\n",
      "        on_upgraded = {\n",
      "\n",
      "        }\n",
      "    }\n",
      "}\n",
      "hanging_gardens = {\n",
      "    start = 144\n",
      "    date = 1444.01.01\n",
      "    build_cost = 0\n",
      "    can_be_moved = no\n",
      "    move_days_per_unit_distance = 1\n",
      "    starting_tier = 2\n",
      "    type = monument\n",
      "    time = {\n",
      "        months = 0\n",
      "    }\n",
      "    build_trigger = {\n",
      "    }\n",
      "    can_use_modifiers_trigger = {\n",
      "    }\n",
      "    can_upgrade_trigger = {\n",
      "    }\n",
      "    keep_trigger = {\n",
      "    }\n",
      "    tier_0 = {\n",
      "        upgrade_time = {\n",
      "            months = 0\n",
      "        }\n",
      "        cost_to_upgrade = {\n",
      "            factor = %(cost)d\n",
      "        }\n",
      "        province_modifiers = {\n",
      "        }\n",
      "        area_modifier = {\n",
      "        }\n",
      "        country_modifiers = {\n",
      "        }\n",
      "        on_upgraded = {\n",
      "        }\n",
      "    }\n",
      "    tier_1 = {\n",
      "        upgrade_time = {\n",
      "            months = 120\n",
      "        }\n",
      "        province_modifiers = {\n",
      "\n",
      "        }\n",
      "        area_modifier = {\n",
      "            local_unrest = -1\n",
      "        }\n",
      "        country_modifiers = {\n",
      "            administrative_efficiency = 0.05\n",
      "            global_manpower_modifier = 0.25\n",
      "        }\n",
      "        on_upgraded = {\n",
      "\n",
      "        }\n",
      "    }\n",
      "    tier_2 = {\n",
      "        upgrade_time = {\n",
      "            months = 120\n",
      "        }\n",
      "        province_modifiers = {\n",
      "\n",
      "        }\n",
      "        area_modifier = {\n",
      "\n",
      "        }\n",
      "        country_modifiers = {\n",
      "            administrative_efficiency = 0.05\n",
      "            global_manpower_modifier = 0.25\n",
      "        }\n",
      "        on_upgraded = {\n",
      "\n",
      "        }\n",
      "    }\n",
      "    tier_3 = {\n",
      "        upgrade_time = {\n",
      "            months = 120\n",
      "        }\n",
      "        province_modifiers = {\n",
      "\n",
      "        }\n",
      "        area_modifier = {\n",
      "\n",
      "        }\n",
      "        country_modifiers = {\n",
      "            administrative_efficiency = 0.05\n",
      "        }\n",
      "        on_upgraded = {\n",
      "\n",
      "        }\n",
      "    }\n",
      "}\n",
      "\n"
     ]
    }
   ],
   "source": [
    "print(common_txt(monums))"
   ]
  },
  {
   "cell_type": "code",
   "execution_count": 6,
   "id": "39568c57",
   "metadata": {},
   "outputs": [
    {
     "name": "stdout",
     "output_type": "stream",
     "text": [
      "spriteTypes = {\n",
      "    spriteType = {\n",
      "        name = \"GFX_great_project_a\"\n",
      "        texturefile = \"gfx//interface//great_projects//great_project_a.dds\"\n",
      "    }\n",
      "    spriteType = {\n",
      "        name = \"GFX_great_project_hanging_gardens\"\n",
      "        texturefile = \"gfx//interface//great_projects//great_project_hanging_gardens.dds\"\n",
      "    }\n",
      "}\n"
     ]
    }
   ],
   "source": [
    "print(gfx_text(monums))"
   ]
  },
  {
   "cell_type": "code",
   "execution_count": 7,
   "id": "310083d3",
   "metadata": {},
   "outputs": [
    {
     "name": "stdout",
     "output_type": "stream",
     "text": [
      "l_english:\n",
      " a_title:0 \"A\"\n",
      " a:0 \"A\"\n",
      " great_project_a_title:0 \"A\"\n",
      " hanging_gardens_title:0 \"Hanging Gardens\"\n",
      " hanging_gardens:0 \"Hanging Gardens\"\n",
      " great_project_hanging_gardens_title:0 \"Hanging Gardens\"\n",
      "\n"
     ]
    }
   ],
   "source": [
    "print(yml_txt(monums))"
   ]
  },
  {
   "cell_type": "code",
   "execution_count": 8,
   "id": "29453df5",
   "metadata": {},
   "outputs": [],
   "source": [
    "import os"
   ]
  },
  {
   "cell_type": "code",
   "execution_count": 10,
   "id": "4a1183f9",
   "metadata": {},
   "outputs": [],
   "source": [
    "mod_name = 'norway_monuments'\n",
    "\n",
    "def write_files(mod_name, monuments):\n",
    "    common = 'common/great_projects/01_{}.txt'.format(mod_name)\n",
    "    interface = 'interface/{}.gfx'.format(mod_name)\n",
    "    localisation = 'localisation/{}_l_english.yml'.format(mod_name)\n",
    "    f = open(common, 'w')\n",
    "    f.write(common_txt(monuments))\n",
    "    f.close()\n",
    "    f = open(interface, 'w')\n",
    "    f.write(gfx_text(monuments))\n",
    "    f.close()\n",
    "    f = open(localisation, 'w')\n",
    "    f.write(yml_txt(monuments))\n",
    "    f.close()"
   ]
  },
  {
   "cell_type": "code",
   "execution_count": 11,
   "id": "f29814d3",
   "metadata": {},
   "outputs": [],
   "source": [
    "write_files(mod_name, monums)"
   ]
  },
  {
   "cell_type": "code",
   "execution_count": null,
   "id": "439d74d2",
   "metadata": {},
   "outputs": [],
   "source": []
  }
 ],
 "metadata": {
  "kernelspec": {
   "display_name": "Python 3 (ipykernel)",
   "language": "python",
   "name": "python3"
  },
  "language_info": {
   "codemirror_mode": {
    "name": "ipython",
    "version": 3
   },
   "file_extension": ".py",
   "mimetype": "text/x-python",
   "name": "python",
   "nbconvert_exporter": "python",
   "pygments_lexer": "ipython3",
   "version": "3.9.1"
  }
 },
 "nbformat": 4,
 "nbformat_minor": 5
}
